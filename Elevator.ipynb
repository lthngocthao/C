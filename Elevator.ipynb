{
  "nbformat": 4,
  "nbformat_minor": 0,
  "metadata": {
    "colab": {
      "name": "Elevator.ipynb",
      "provenance": [],
      "mount_file_id": "13nf3u3Pt6HKATwrBKQntdrYBpt11mJGX",
      "authorship_tag": "ABX9TyPfGfWE7qu8po3BpE6eWfcr",
      "include_colab_link": true
    },
    "kernelspec": {
      "name": "python3",
      "display_name": "Python 3"
    },
    "language_info": {
      "name": "python"
    }
  },
  "cells": [
    {
      "cell_type": "markdown",
      "metadata": {
        "id": "view-in-github",
        "colab_type": "text"
      },
      "source": [
        "<a href=\"https://colab.research.google.com/github/lthngocthao/C/blob/main/Elevator.ipynb\" target=\"_parent\"><img src=\"https://colab.research.google.com/assets/colab-badge.svg\" alt=\"Open In Colab\"/></a>"
      ]
    },
    {
      "cell_type": "code",
      "source": [
        ""
      ],
      "metadata": {
        "id": "iy0coHByVATd"
      },
      "execution_count": null,
      "outputs": []
    },
    {
      "cell_type": "markdown",
      "source": [
        "# New Section"
      ],
      "metadata": {
        "id": "avkQmdybSDm5"
      }
    },
    {
      "cell_type": "code",
      "source": [
        "import numpy as np \n",
        "\n",
        "\n",
        "class Elevator(object):\n",
        "\tdef __init__(self, num, max_people, max_height):\n",
        "\t\tself.idx = num\n",
        "\t\tself.max_height = max_height\n",
        "\t\tself.max_people = max_people\n",
        "\t\t#we don't need this right now since everyone's going down to the ground floor \n",
        "\t\t# self.dest_floors = []\n",
        "\t\tself.curr_floor = 0\n",
        "\t\tself.curr_people = []\n",
        "\n",
        "\tdef move_up(self):\n",
        "\t\tif self.curr_floor < self.max_height-1:\n",
        "\t\t\tself.curr_floor += 1\n",
        "\n",
        "\tdef move_down(self):\n",
        "\t\tif self.curr_floor > 0:\n",
        "\t\t\tself.curr_floor -= 1\n",
        "\n",
        "\t# def press_button(self, dest_floor):\n",
        "\t# \tif dest_floor > 0 and dest_floor < max_height:\n",
        "\t# \t\tself.dest_floors.append(dest_floor)\n",
        "\n",
        "\tdef empty(self):\n",
        "\t\tself.curr_people = []\n",
        "\t\tself.curr_floor = 0\n",
        "\n",
        "\n",
        "\t# function loads people into the elevator\n",
        "\tdef load_people(self, people_in_floor):\n",
        "\t\tres = 0\n",
        "\t\tif len(people_in_floor) > (self.max_people - len(self.curr_people)):\n",
        "\t\t\tres = people_in_floor[self.max_people - len(self.curr_people):]\n",
        "\t\t\tfor p in people_in_floor[:self.max_people - len(self.curr_people)]:\n",
        "\t\t\t\tself.curr_people.append(p)\n",
        "\t\telse:\n",
        "\t\t\tfor p in people_in_floor:\n",
        "\t\t\t\tself.curr_people.append(p)\n",
        "\t\t\t# self.curr_people += people_in_floor\n",
        "\t\t\tres = []\n",
        "\t\t\n",
        "\t\treturn res\n",
        "\n",
        "\t\t# dest_floor = np.random.randint(floor+1,self.max_height) if button.up == \"^\" else np.random.randint(0,floor-1)\t\t\n",
        "\t\t# if not dest_floor in self.dest_floors:\n",
        "\t\t# \tself.dest_floors.append(dest_floor)\n",
        "\t\t# sorted(self.dest_floors)\n",
        "\n",
        "\t# function unloads people back into the building \n",
        "\tdef unload_people(self, people_in_floor, max_capacity):\n",
        "\t\tnum_in_floor = len(people_in_floor)\n",
        "\t\tnum_in_lift = len(self.curr_people)\n",
        "\t\tres = self.curr_people\n",
        "\t\tif self.curr_floor == 0 or num_in_floor + num_in_lift < max_capacity:\n",
        "\t\t\tself.curr_people = []\n",
        "\t\telse:\n",
        "\t\t\tself.curr_people = res[0:num_in_floor + num_in_lift - max_capacity]\n",
        "\t\t\tres = res[num_in_floor + num_in_lift - max_capacity:]\n",
        "\n",
        "\t\treturn res"
      ],
      "metadata": {
        "id": "mDSqn9uLSaCJ"
      },
      "execution_count": null,
      "outputs": []
    }
  ]
}